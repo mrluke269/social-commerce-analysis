{
 "cells": [
  {
   "cell_type": "code",
   "execution_count": 3,
   "id": "72dee45f",
   "metadata": {},
   "outputs": [],
   "source": [
    "# Load cleaned datasets\n",
    "import pandas as pd\n",
    "ig_df = pd.read_csv(r'C:\\Users\\luket\\projects\\ig_cleaned.csv')\n",
    "tt_df = pd.read_csv(r'C:\\Users\\luket\\projects\\tiktok_cleaned.csv')"
   ]
  },
  {
   "cell_type": "code",
   "execution_count": 5,
   "id": "35c73d12",
   "metadata": {},
   "outputs": [],
   "source": [
    "# Add platform column\n",
    "ig_df['platform'] = 'Instagram'\n",
    "tt_df['platform'] = 'TikTok'\n",
    "\n",
    "# Rename columns to align\n",
    "ig_df = ig_df.rename(columns={\n",
    "    'comment': 'comment_text',\n",
    "    'likes_number': 'likes_count',\n",
    "    'replies_number': 'replies_count',\n",
    "    'comment_date': 'comment_date',\n",
    "    'post_user': 'commenter_username'\n",
    "})\n",
    "\n",
    "tt_df = tt_df.rename(columns={\n",
    "    'num_likes': 'likes_count',\n",
    "    'num_replies': 'replies_count',\n",
    "    'date_created': 'comment_date',\n",
    "    'commenter_user_name': 'commenter_username'\n",
    "})"
   ]
  },
  {
   "cell_type": "code",
   "execution_count": 6,
   "id": "7bd76848",
   "metadata": {},
   "outputs": [
    {
     "name": "stdout",
     "output_type": "stream",
     "text": [
      "✅ Saved integrated dataset to: C:\\Users\\luket\\projects\\social_cleaned.csv\n"
     ]
    }
   ],
   "source": [
    "# combine DFs\n",
    "common_cols = [\n",
    "    'platform', 'comment_text', 'likes_count', 'replies_count',\n",
    "    'comment_date', 'post_id', 'commenter_username'\n",
    "]\n",
    "\n",
    "# Subset\n",
    "ig_df_final = ig_df[common_cols]\n",
    "tt_df_final = tt_df[common_cols]\n",
    "\n",
    "# Combine\n",
    "social_df = pd.concat([ig_df_final, tt_df_final], ignore_index=True)\n",
    "\n",
    "output_path = r'C:\\Users\\luket\\projects\\social_cleaned.csv'\n",
    "social_df.to_csv(output_path, index=False)\n",
    "print(\"✅ Saved integrated dataset to:\", output_path)"
   ]
  }
 ],
 "metadata": {
  "kernelspec": {
   "display_name": "Python 3",
   "language": "python",
   "name": "python3"
  },
  "language_info": {
   "codemirror_mode": {
    "name": "ipython",
    "version": 3
   },
   "file_extension": ".py",
   "mimetype": "text/x-python",
   "name": "python",
   "nbconvert_exporter": "python",
   "pygments_lexer": "ipython3",
   "version": "3.11.9"
  }
 },
 "nbformat": 4,
 "nbformat_minor": 5
}
